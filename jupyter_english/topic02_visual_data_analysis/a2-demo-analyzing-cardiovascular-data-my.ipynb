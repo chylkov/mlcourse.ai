{
 "cells": [
  {
   "cell_type": "markdown",
   "metadata": {
    "_uuid": "945c0f151b28ca53b79e0f7cf5b107af959a3370"
   },
   "source": [
    "<center>\n",
    "<img src=\"https://habrastorage.org/files/fd4/502/43d/fd450243dd604b81b9713213a247aa20.jpg\">\n",
    "\n",
    "## [mlcourse.ai](https://mlcourse.ai) - Open Machine Learning Course\n",
    "    \n",
    "Authors: [Ilya Baryshnikov](https://www.linkedin.com/in/baryshnikov-ilya/), [Maxim Uvarov](https://www.linkedin.com/in/maxis42/), and [Yury Kashnitsky](https://www.linkedin.com/in/festline/). Translated and edited by [Inga Kaydanova](https://www.linkedin.com/in/inga-kaidanova-a92398b1/), [Egor Polusmak](https://www.linkedin.com/in/egor-polusmak/), [Anastasia Manokhina](https://www.linkedin.com/in/anastasiamanokhina/), and [Yuanyuan Pao](https://www.linkedin.com/in/yuanyuanpao/). All content is distributed under the [Creative Commons CC BY-NC-SA 4.0](https://creativecommons.org/licenses/by-nc-sa/4.0/) license."
   ]
  },
  {
   "cell_type": "markdown",
   "metadata": {
    "_uuid": "66409c8728e75df39a1390bcb634ae50c6b37652",
    "collapsed": true
   },
   "source": [
    "# <center>Assignment #2 (demo)\n",
    "## <center>Analyzing cardiovascular disease data "
   ]
  },
  {
   "cell_type": "markdown",
   "metadata": {
    "_uuid": "5cea59b8adb04c5a07a32c5b70a829319ba0cf2a"
   },
   "source": [
    "In this assignment, you will answer questions about a dataset on cardiovascular disease. You do not need to download the data: it is already in the repository. There are some Tasks that will require you to write code. Complete them and then answer the questions in the [form](https://docs.google.com/forms/d/13cE_tSIb6hsScQvvWUJeu1MEHE5L6vnxQUbDYpXsf24). \n",
    "\n",
    "#### Problem\n",
    "\n",
    "Predict the presence or absence of cardiovascular disease (CVD) using the patient examination results.\n",
    "\n",
    "#### Data description\n",
    "\n",
    "There are 3 types of input features:\n",
    "\n",
    "- *Objective*: factual information;\n",
    "- *Examination*: results of medical examination;\n",
    "- *Subjective*: information given by the patient.\n",
    "\n",
    "| Feature | Variable Type | Variable      | Value Type |\n",
    "|---------|--------------|---------------|------------|\n",
    "| Age | Objective Feature | age | int (days) |\n",
    "| Height | Objective Feature | height | int (cm) |\n",
    "| Weight | Objective Feature | weight | float (kg) |\n",
    "| Gender | Objective Feature | gender | categorical code |\n",
    "| Systolic blood pressure | Examination Feature | ap_hi | int |\n",
    "| Diastolic blood pressure | Examination Feature | ap_lo | int |\n",
    "| Cholesterol | Examination Feature | cholesterol | 1: normal, 2: above normal, 3: well above normal |\n",
    "| Glucose | Examination Feature | gluc | 1: normal, 2: above normal, 3: well above normal |\n",
    "| Smoking | Subjective Feature | smoke | binary |\n",
    "| Alcohol intake | Subjective Feature | alco | binary |\n",
    "| Physical activity | Subjective Feature | active | binary |\n",
    "| Presence or absence of cardiovascular disease | Target Variable | cardio | binary |\n",
    "\n",
    "All of the dataset values were collected at the moment of medical examination."
   ]
  },
  {
   "cell_type": "markdown",
   "metadata": {
    "_uuid": "10749a7f9b46749e3a90ff697bc298760045c333"
   },
   "source": [
    "Let's get to know our data by performing a preliminary data analysis.\n",
    "\n",
    "#  Part 1. Preliminary data analysis\n",
    "\n",
    "First, we will initialize the environment:"
   ]
  },
  {
   "cell_type": "code",
   "execution_count": 1,
   "metadata": {
    "_uuid": "85426734e890fcf72416f29a953da115c1171080"
   },
   "outputs": [],
   "source": [
    "# Import all required modules\n",
    "import pandas as pd\n",
    "import numpy as np\n",
    "\n",
    "# Disable warnings\n",
    "import warnings\n",
    "warnings.filterwarnings(\"ignore\")\n",
    "\n",
    "# Import plotting modules\n",
    "import seaborn as sns\n",
    "sns.set()\n",
    "import matplotlib\n",
    "import matplotlib.pyplot as plt\n",
    "import matplotlib.ticker\n",
    "%matplotlib inline"
   ]
  },
  {
   "cell_type": "markdown",
   "metadata": {
    "_uuid": "cbcf821e4bea8a7f7fb1ee4a9bf285b6c4b588ee"
   },
   "source": [
    "You will use the `seaborn` library for visual analysis, so let's set that up too:"
   ]
  },
  {
   "cell_type": "code",
   "execution_count": 2,
   "metadata": {
    "_uuid": "b33601a0cadc2fb2d92f211c31bf99a502f71d48"
   },
   "outputs": [],
   "source": [
    "# Tune the visual settings for figures in `seaborn`\n",
    "sns.set_context(\n",
    "    \"notebook\", \n",
    "    font_scale=1.5,       \n",
    "    rc={ \n",
    "        \"figure.figsize\": (11, 8), \n",
    "        \"axes.titlesize\": 18 \n",
    "    }\n",
    ")\n",
    "\n",
    "from matplotlib import rcParams\n",
    "rcParams['figure.figsize'] = 11, 8"
   ]
  },
  {
   "cell_type": "markdown",
   "metadata": {
    "_uuid": "89381351e4b95530b355e0e55bc4536c0a813d10"
   },
   "source": [
    "To make it simple, we will work only with the training part of the dataset:"
   ]
  },
  {
   "cell_type": "code",
   "execution_count": 3,
   "metadata": {
    "_uuid": "2bd0005e660693a061577ca5244b48ccebf36719"
   },
   "outputs": [
    {
     "name": "stdout",
     "output_type": "stream",
     "text": [
      "Dataset size:  (70000, 13)\n"
     ]
    },
    {
     "data": {
      "text/html": [
       "<div>\n",
       "<style scoped>\n",
       "    .dataframe tbody tr th:only-of-type {\n",
       "        vertical-align: middle;\n",
       "    }\n",
       "\n",
       "    .dataframe tbody tr th {\n",
       "        vertical-align: top;\n",
       "    }\n",
       "\n",
       "    .dataframe thead th {\n",
       "        text-align: right;\n",
       "    }\n",
       "</style>\n",
       "<table border=\"1\" class=\"dataframe\">\n",
       "  <thead>\n",
       "    <tr style=\"text-align: right;\">\n",
       "      <th></th>\n",
       "      <th>id</th>\n",
       "      <th>age</th>\n",
       "      <th>gender</th>\n",
       "      <th>height</th>\n",
       "      <th>weight</th>\n",
       "      <th>ap_hi</th>\n",
       "      <th>ap_lo</th>\n",
       "      <th>cholesterol</th>\n",
       "      <th>gluc</th>\n",
       "      <th>smoke</th>\n",
       "      <th>alco</th>\n",
       "      <th>active</th>\n",
       "      <th>cardio</th>\n",
       "    </tr>\n",
       "  </thead>\n",
       "  <tbody>\n",
       "    <tr>\n",
       "      <th>0</th>\n",
       "      <td>0</td>\n",
       "      <td>18393</td>\n",
       "      <td>2</td>\n",
       "      <td>168</td>\n",
       "      <td>62.0</td>\n",
       "      <td>110</td>\n",
       "      <td>80</td>\n",
       "      <td>1</td>\n",
       "      <td>1</td>\n",
       "      <td>0</td>\n",
       "      <td>0</td>\n",
       "      <td>1</td>\n",
       "      <td>0</td>\n",
       "    </tr>\n",
       "    <tr>\n",
       "      <th>1</th>\n",
       "      <td>1</td>\n",
       "      <td>20228</td>\n",
       "      <td>1</td>\n",
       "      <td>156</td>\n",
       "      <td>85.0</td>\n",
       "      <td>140</td>\n",
       "      <td>90</td>\n",
       "      <td>3</td>\n",
       "      <td>1</td>\n",
       "      <td>0</td>\n",
       "      <td>0</td>\n",
       "      <td>1</td>\n",
       "      <td>1</td>\n",
       "    </tr>\n",
       "    <tr>\n",
       "      <th>2</th>\n",
       "      <td>2</td>\n",
       "      <td>18857</td>\n",
       "      <td>1</td>\n",
       "      <td>165</td>\n",
       "      <td>64.0</td>\n",
       "      <td>130</td>\n",
       "      <td>70</td>\n",
       "      <td>3</td>\n",
       "      <td>1</td>\n",
       "      <td>0</td>\n",
       "      <td>0</td>\n",
       "      <td>0</td>\n",
       "      <td>1</td>\n",
       "    </tr>\n",
       "    <tr>\n",
       "      <th>3</th>\n",
       "      <td>3</td>\n",
       "      <td>17623</td>\n",
       "      <td>2</td>\n",
       "      <td>169</td>\n",
       "      <td>82.0</td>\n",
       "      <td>150</td>\n",
       "      <td>100</td>\n",
       "      <td>1</td>\n",
       "      <td>1</td>\n",
       "      <td>0</td>\n",
       "      <td>0</td>\n",
       "      <td>1</td>\n",
       "      <td>1</td>\n",
       "    </tr>\n",
       "    <tr>\n",
       "      <th>4</th>\n",
       "      <td>4</td>\n",
       "      <td>17474</td>\n",
       "      <td>1</td>\n",
       "      <td>156</td>\n",
       "      <td>56.0</td>\n",
       "      <td>100</td>\n",
       "      <td>60</td>\n",
       "      <td>1</td>\n",
       "      <td>1</td>\n",
       "      <td>0</td>\n",
       "      <td>0</td>\n",
       "      <td>0</td>\n",
       "      <td>0</td>\n",
       "    </tr>\n",
       "  </tbody>\n",
       "</table>\n",
       "</div>"
      ],
      "text/plain": [
       "   id    age  gender  height  weight  ap_hi  ap_lo  cholesterol  gluc  smoke  \\\n",
       "0   0  18393       2     168    62.0    110     80            1     1      0   \n",
       "1   1  20228       1     156    85.0    140     90            3     1      0   \n",
       "2   2  18857       1     165    64.0    130     70            3     1      0   \n",
       "3   3  17623       2     169    82.0    150    100            1     1      0   \n",
       "4   4  17474       1     156    56.0    100     60            1     1      0   \n",
       "\n",
       "   alco  active  cardio  \n",
       "0     0       1       0  \n",
       "1     0       1       1  \n",
       "2     0       0       1  \n",
       "3     0       1       1  \n",
       "4     0       0       0  "
      ]
     },
     "execution_count": 3,
     "metadata": {},
     "output_type": "execute_result"
    }
   ],
   "source": [
    "df = pd.read_csv('~/_Projects/mlcourse.ai/data/mlbootcamp5_train.csv', sep = ';')\n",
    "print('Dataset size: ', df.shape)\n",
    "df.head()"
   ]
  },
  {
   "cell_type": "markdown",
   "metadata": {
    "_uuid": "636bf459023fbc1d1f1b73863c5246397dc26e6d"
   },
   "source": [
    "It would be instructive to peek into the values of our variables.\n",
    " \n",
    "Let's convert the data into *long* format and depict the value counts of the categorical features using [`factorplot()`](https://seaborn.pydata.org/generated/seaborn.factorplot.html)."
   ]
  },
  {
   "cell_type": "code",
   "execution_count": 4,
   "metadata": {
    "_uuid": "334ad6a83e7bb58f2c65ec512bfc401a0948c17a"
   },
   "outputs": [
    {
     "data": {
      "image/png": "[encoded data removed]",
      "text/plain": [
       "<Figure size 932.65x864 with 1 Axes>"
      ]
     },
     "metadata": {
      "needs_background": "light"
     },
     "output_type": "display_data"
    }
   ],
   "source": [
    "df_uniques = pd.melt(frame=df, value_vars=['gender','cholesterol', \n",
    "                                           'gluc', 'smoke', 'alco', \n",
    "                                           'active', 'cardio'])\n",
    "df_uniques = pd.DataFrame(df_uniques.groupby(['variable', \n",
    "                                              'value'])['value'].count()) \\\n",
    "    .sort_index(level=[0, 1]) \\\n",
    "    .rename(columns={'value': 'count'}) \\\n",
    "    .reset_index()\n",
    "\n",
    "sns.factorplot(x='variable', y='count', hue='value', \n",
    "               data=df_uniques, kind='bar', size=12);"
   ]
  },
  {
   "cell_type": "markdown",
   "metadata": {
    "_uuid": "cb94ec9ddf78c607cdec5536581b8ec4004ac16b",
    "collapsed": true
   },
   "source": [
    "We can see that the target classes are balanced. That's great!\n",
    "\n",
    "Let's split the dataset by target values. Can you already spot the most significant feature by just looking at the plot?"
   ]
  },
  {
   "cell_type": "code",
   "execution_count": 5,
   "metadata": {
    "_uuid": "a712d76f8c11588a9aebd4be6a00f01c53a8d80a"
   },
   "outputs": [
    {
     "data": {
      "image/png": "[encoded data removed]",
      "text/plain": [
       "<Figure size 1364.65x648 with 2 Axes>"
      ]
     },
     "metadata": {
      "needs_background": "light"
     },
     "output_type": "display_data"
    }
   ],
   "source": [
    "df_uniques = pd.melt(frame=df, value_vars=['gender','cholesterol', \n",
    "                                           'gluc', 'smoke', 'alco', \n",
    "                                           'active'], \n",
    "                     id_vars=['cardio'])\n",
    "df_uniques = pd.DataFrame(df_uniques.groupby(['variable', 'value', \n",
    "                                              'cardio'])['value'].count()) \\\n",
    "    .sort_index(level=[0, 1]) \\\n",
    "    .rename(columns={'value': 'count'}) \\\n",
    "    .reset_index()\n",
    "\n",
    "sns.factorplot(x='variable', y='count', hue='value', \n",
    "               col='cardio', data=df_uniques, kind='bar', size=9);"
   ]
  },
  {
   "cell_type": "markdown",
   "metadata": {
    "_uuid": "4f4fdb7b979c6594b3060a0b80473fabbdf6acd0"
   },
   "source": [
    "You can see that the distribution of cholesterol and glucose levels great differs by the value of the target variable. Is this a coincidence?\n",
    "\n",
    "Now, let's calculate some statistics for the feature unique values:"
   ]
  },
  {
   "cell_type": "code",
   "execution_count": 6,
   "metadata": {
    "_uuid": "e9cbba719f93f6b544567638be7332b7385fc715"
   },
   "outputs": [
    {
     "name": "stdout",
     "output_type": "stream",
     "text": [
      "id\n",
      "70000\n",
      "----------\n",
      "age\n",
      "8076\n",
      "----------\n",
      "gender\n",
      "2 [(1, 45530), (2, 24470)]\n",
      "----------\n",
      "height\n",
      "109\n",
      "----------\n",
      "weight\n",
      "287\n",
      "----------\n",
      "ap_hi\n",
      "153\n",
      "----------\n",
      "ap_lo\n",
      "157\n",
      "----------\n",
      "cholesterol\n",
      "3 [(1, 52385), (2, 9549), (3, 8066)]\n",
      "----------\n",
      "gluc\n",
      "3 [(1, 59479), (2, 5190), (3, 5331)]\n",
      "----------\n",
      "smoke\n",
      "2 [(0, 63831), (1, 6169)]\n",
      "----------\n",
      "alco\n",
      "2 [(0, 66236), (1, 3764)]\n",
      "----------\n",
      "active\n",
      "2 [(0, 13739), (1, 56261)]\n",
      "----------\n",
      "cardio\n",
      "2 [(0, 35021), (1, 34979)]\n",
      "----------\n"
     ]
    }
   ],
   "source": [
    "for c in df.columns:\n",
    "    n = df[c].nunique()\n",
    "    print(c)\n",
    "    if n <= 3:\n",
    "        print(n, sorted(df[c].value_counts().to_dict().items()))\n",
    "    else:\n",
    "        print(n)\n",
    "    print(10 * '-')"
   ]
  },
  {
   "cell_type": "markdown",
   "metadata": {
    "_uuid": "53507160b237077bf8b19fb987b910669c04ba8b"
   },
   "source": [
    "In the end, we have:\n",
    "- 5 numerical features (excluding *id*);\n",
    "- 7 categorical features;\n",
    "- 70000 records in total."
   ]
  },
  {
   "cell_type": "markdown",
   "metadata": {
    "_uuid": "5f9dc83567c83c1ab2eeb4b855d3f8460c1a735e"
   },
   "source": [
    "## 1.1. Basic observations"
   ]
  },
  {
   "cell_type": "markdown",
   "metadata": {
    "_uuid": "129e6509399146154e8c7e293a2fd11f5d267fa4"
   },
   "source": [
    "**Question 1.1. (1 point). How many men and women are present in this dataset? Values of the `gender` feature were not given (whether \"1\" stands for women or for men) – figure this out by looking analyzing height, making the assumption that men are taller on average. **\n",
    "1. **45530 women and 24470 men**\n",
    "2. 45530 men and 24470 women\n",
    "3. 45470 women and 24530 men\n",
    "4. 45470 men and 24530 women"
   ]
  },
  {
   "cell_type": "code",
   "execution_count": 7,
   "metadata": {},
   "outputs": [
    {
     "data": {
      "text/html": [
       "<div>\n",
       "<style scoped>\n",
       "    .dataframe tbody tr th:only-of-type {\n",
       "        vertical-align: middle;\n",
       "    }\n",
       "\n",
       "    .dataframe tbody tr th {\n",
       "        vertical-align: top;\n",
       "    }\n",
       "\n",
       "    .dataframe thead tr th {\n",
       "        text-align: left;\n",
       "    }\n",
       "\n",
       "    .dataframe thead tr:last-of-type th {\n",
       "        text-align: right;\n",
       "    }\n",
       "</style>\n",
       "<table border=\"1\" class=\"dataframe\">\n",
       "  <thead>\n",
       "    <tr>\n",
       "      <th></th>\n",
       "      <th colspan=\"2\" halign=\"left\">height</th>\n",
       "    </tr>\n",
       "    <tr>\n",
       "      <th></th>\n",
       "      <th>mean</th>\n",
       "      <th>count</th>\n",
       "    </tr>\n",
       "    <tr>\n",
       "      <th>gender</th>\n",
       "      <th></th>\n",
       "      <th></th>\n",
       "    </tr>\n",
       "  </thead>\n",
       "  <tbody>\n",
       "    <tr>\n",
       "      <th>1</th>\n",
       "      <td>161.355612</td>\n",
       "      <td>45530</td>\n",
       "    </tr>\n",
       "    <tr>\n",
       "      <th>2</th>\n",
       "      <td>169.947895</td>\n",
       "      <td>24470</td>\n",
       "    </tr>\n",
       "  </tbody>\n",
       "</table>\n",
       "</div>"
      ],
      "text/plain": [
       "            height       \n",
       "              mean  count\n",
       "gender                   \n",
       "1       161.355612  45530\n",
       "2       169.947895  24470"
      ]
     },
     "execution_count": 7,
     "metadata": {},
     "output_type": "execute_result"
    }
   ],
   "source": [
    "df.groupby('gender').agg({'height':['mean', 'count']})"
   ]
  },
  {
   "cell_type": "markdown",
   "metadata": {
    "_uuid": "d6b36cf91cd63fcce92c4177475820bd6b94ec89"
   },
   "source": [
    "**Question 1.2. (1 point). Which gender more often reports consuming alcohol - men or women?**\n",
    "1. women\n",
    "2. **men**"
   ]
  },
  {
   "cell_type": "code",
   "execution_count": 8,
   "metadata": {},
   "outputs": [
    {
     "data": {
      "text/plain": [
       "gender\n",
       "1    0.025500\n",
       "2    0.106375\n",
       "Name: alco, dtype: float64"
      ]
     },
     "execution_count": 8,
     "metadata": {},
     "output_type": "execute_result"
    }
   ],
   "source": [
    "df.groupby('gender')['alco'].mean()"
   ]
  },
  {
   "cell_type": "markdown",
   "metadata": {
    "_uuid": "8b98389e26edd01374d6217d8dd1e2d5ffff9d1c"
   },
   "source": [
    "**Question 1.3. (1 point). What is the difference between the percentages of smokers among men and women (rounded)?**\n",
    "1. 4\n",
    "2. 16\n",
    "3. **20**\n",
    "4. 24"
   ]
  },
  {
   "cell_type": "code",
   "execution_count": 9,
   "metadata": {},
   "outputs": [
    {
     "data": {
      "text/plain": [
       "0.20102390309976736"
      ]
     },
     "execution_count": 9,
     "metadata": {},
     "output_type": "execute_result"
    }
   ],
   "source": [
    "df[df.gender == 2].smoke.mean() - df[df.gender == 1].smoke.mean()"
   ]
  },
  {
   "cell_type": "markdown",
   "metadata": {
    "_uuid": "c92554c5fe98a07b298cec98eaa2622a3bedbeeb"
   },
   "source": [
    "**Question 1.4. (1 point). What is the difference between median values of age for smokers and non-smokers (in months, rounded)? You'll need to figure out the units of feature `age` in this dataset.**\n",
    "\n",
    "1. 5\n",
    "2. 10\n",
    "3. 15\n",
    "4. **20**"
   ]
  },
  {
   "cell_type": "code",
   "execution_count": 10,
   "metadata": {},
   "outputs": [
    {
     "data": {
      "text/plain": [
       "count    70000.000000\n",
       "mean        53.339358\n",
       "std          6.759594\n",
       "min         29.583562\n",
       "25%         48.394521\n",
       "50%         53.980822\n",
       "75%         58.430137\n",
       "max         64.967123\n",
       "Name: age, dtype: float64"
      ]
     },
     "execution_count": 10,
     "metadata": {},
     "output_type": "execute_result"
    }
   ],
   "source": [
    "(df['age'] / 365).describe()"
   ]
  },
  {
   "cell_type": "code",
   "execution_count": 11,
   "metadata": {},
   "outputs": [
    {
     "data": {
      "text/plain": [
       "smoke\n",
       "0    657.4\n",
       "1    637.5\n",
       "Name: age_month, dtype: float64"
      ]
     },
     "execution_count": 11,
     "metadata": {},
     "output_type": "execute_result"
    }
   ],
   "source": [
    "df['age_month'] = df['age'] / 30\n",
    "df.groupby('smoke')['age_month'].median()"
   ]
  },
  {
   "cell_type": "markdown",
   "metadata": {
    "_uuid": "ac5d59876eb97782eab5f038aa8b2335e014d9bf"
   },
   "source": [
    "## 1.2. Risk maps\n",
    "### Task:"
   ]
  },
  {
   "cell_type": "markdown",
   "metadata": {
    "_uuid": "9efc6fd8ff26ea2ddf95e7e0b70ef3b802f83af5"
   },
   "source": [
    "On the website for the European Society of Cardiology, a [SCORE scale](https://www.escardio.org/Education/Practice-Tools/CVD-prevention-toolbox/SCORE-Risk-Charts) is provided. It is used for calculating the risk of death from a cardiovascular decease in the next 10 years. Here it is:\n",
    "<img src=https://habrastorage.org/webt/ik/gx/hr/ikgxhr3w1vzqihgitgrbdorfb14.png width=30%>\n",
    "\n",
    "Let's take a look at the upper-right rectangle, which shows a subset of smoking men aged from 60 to 65. (It's not obvious, but the values in the figure represent the upper bound).\n",
    "\n",
    "We see the value 9 in the lower-left corner of the rectangle and 47 in the upper-right. This means that, for people in this gender-age group whose systolic pressure is less than 120, the risk of a CVD is estimated to be 5 times lower than for those with the pressure in the interval [160,180).\n",
    "\n",
    "Let's calculate that same ratio using our data.\n",
    "\n",
    "Clarifications:\n",
    "- Calculate ``age_years`` feature – round age to the nearest number of years. For this task, select only the people of age 60 to 64, inclusive.\n",
    "- Cholesterol level categories differ between the figure and our dataset. The conversion for the ``cholesterol`` feature is as follows: 4 mmol/l $\\rightarrow$ 1, 5-7 mmol/l $\\rightarrow$ 2, 8 mmol/l $\\rightarrow$ 3."
   ]
  },
  {
   "cell_type": "code",
   "execution_count": 12,
   "metadata": {
    "_uuid": "8caffb39e65c95e4cfebfe448bbe224af4d0766c"
   },
   "outputs": [
    {
     "data": {
      "text/plain": [
       "3.4"
      ]
     },
     "execution_count": 12,
     "metadata": {},
     "output_type": "execute_result"
    }
   ],
   "source": [
    "df['age_year'] = (df['age'] / 365).astype('int')\n",
    "df['pressure_small'] = df['ap_hi'] < 120\n",
    "df['pressure_big'] = (df['ap_hi'] >= 160) & (df['ap_lo'] < 180)\n",
    "df_small = df[(df['age_year'] >= 60) & (df['age_year'] <= 64) & (df['gender'] == 2) & (df['smoke'] == 1)]\n",
    "(df_small[(df_small['pressure_big'] == True) & (df_small['cholesterol'] == 3)].cardio.mean() / \n",
    " df_small[(df_small['pressure_small'] == True) & (df_small['cholesterol'] == 1)].cardio.mean())"
   ]
  },
  {
   "cell_type": "markdown",
   "metadata": {
    "_uuid": "e71f8859a7fb8f23a78ac84b861d41c8f1b9e11f"
   },
   "source": [
    "**Question 1.5. (2 points). Calculate the fraction of the people with CVD for the two segments described above. What is the ratio of these two fractions?**\n",
    "\n",
    "1. 1\n",
    "2. 2\n",
    "3. **3**\n",
    "4. 4"
   ]
  },
  {
   "cell_type": "markdown",
   "metadata": {
    "_uuid": "54cef692e0af3745091c7177d63a2d6c36044474"
   },
   "source": [
    "## 1.3. Analyzing BMI\n",
    "### Task:"
   ]
  },
  {
   "cell_type": "markdown",
   "metadata": {
    "_uuid": "c52b4b1c20956e3cc420bb13e7bb12d80aa3ef1a"
   },
   "source": [
    "Create a new feature – BMI ([Body Mass Index](https://en.wikipedia.org/wiki/Body_mass_index)). To do this, divide weight in kilogramms by the square of the height in meters. Normal BMI values are said to be from 18.5 to 25. "
   ]
  },
  {
   "cell_type": "code",
   "execution_count": 13,
   "metadata": {
    "_uuid": "5b3134f2597650ae95d0196393b30797518f0498"
   },
   "outputs": [],
   "source": [
    "df['BMI'] = df['weight'] / (df['height']/100) ** 2"
   ]
  },
  {
   "cell_type": "markdown",
   "metadata": {
    "_uuid": "1c2baed24cc5b3abb94b5c6c09d571f29b39213b"
   },
   "source": [
    "**Question 1.6. (2 points). Choose the correct statements:**\n",
    "\n",
    "1. Median BMI in the sample is within the range of normal BMI values.\n",
    "2. **The BMI for women is on average higher than for men.**\n",
    "3. Healthy people have, on average, a higher BMI than the people with CVD.\n",
    "4. **For healthy, non-drinking men, BMI is closer to the norm than for healthy, non-drinking women**"
   ]
  },
  {
   "cell_type": "code",
   "execution_count": 14,
   "metadata": {},
   "outputs": [
    {
     "data": {
      "text/plain": [
       "26.374068120774975"
      ]
     },
     "execution_count": 14,
     "metadata": {},
     "output_type": "execute_result"
    }
   ],
   "source": [
    "df['BMI'].median()"
   ]
  },
  {
   "cell_type": "code",
   "execution_count": 15,
   "metadata": {},
   "outputs": [
    {
     "data": {
      "text/plain": [
       "gender\n",
       "1    27.987583\n",
       "2    26.754442\n",
       "Name: BMI, dtype: float64"
      ]
     },
     "execution_count": 15,
     "metadata": {},
     "output_type": "execute_result"
    }
   ],
   "source": [
    "df.groupby('gender')['BMI'].mean()"
   ]
  },
  {
   "cell_type": "code",
   "execution_count": 16,
   "metadata": {},
   "outputs": [
    {
     "data": {
      "text/plain": [
       "cardio\n",
       "0    26.548175\n",
       "1    28.566061\n",
       "Name: BMI, dtype: float64"
      ]
     },
     "execution_count": 16,
     "metadata": {},
     "output_type": "execute_result"
    }
   ],
   "source": [
    "df.groupby('cardio')['BMI'].mean()"
   ]
  },
  {
   "cell_type": "code",
   "execution_count": 17,
   "metadata": {},
   "outputs": [
    {
     "data": {
      "text/plain": [
       "gender\n",
       "1    26.845407\n",
       "2    25.872638\n",
       "Name: BMI, dtype: float64"
      ]
     },
     "execution_count": 17,
     "metadata": {},
     "output_type": "execute_result"
    }
   ],
   "source": [
    "df[(df['cardio'] == 0) & (df['alco'] == 0)].groupby('gender')['BMI'].mean()"
   ]
  },
  {
   "cell_type": "markdown",
   "metadata": {
    "_uuid": "2e059032eee1d57c896e24a98b659a5ab16144fd"
   },
   "source": [
    "## 1.4. Cleaning data"
   ]
  },
  {
   "cell_type": "markdown",
   "metadata": {
    "_uuid": "26ccfbcb212c3631b4941a294906c027b974301a"
   },
   "source": [
    "### Task:\n",
    "We can see that the data is not perfect. It contains \"dirt\" and inaccuracies. We'll see this better as we visualize the data.\n",
    "\n",
    "Filter out the following patient segments (we consider these as erroneous data)\n",
    "\n",
    "- diastolic pressure is higher than systolic \n",
    "- height is strictly less than 2.5 percentile (Use `pd.Series.quantile` to compute this value. If you are not familiar with the function, please read the docs.)\n",
    "- height is strictly more than 97.5 percentile\n",
    "- weight is strictly less than 2.5 percentile\n",
    "- weight is strictly more than 97.5 percentile\n",
    "\n",
    "This is not everything that we can do to clean this data, but this is sufficient for now."
   ]
  },
  {
   "cell_type": "code",
   "execution_count": 18,
   "metadata": {
    "_uuid": "483fd26f0aff141810dcb084095c380acafbfbdd"
   },
   "outputs": [],
   "source": [
    "df_clean = df[(df.ap_hi > df.ap_lo) & \n",
    "              (df.height >= pd.Series.quantile(df.height, 0.025)) & \n",
    "              (df.height <= pd.Series.quantile(df.height, 0.975)) & \n",
    "              (df.weight >= pd.Series.quantile(df.weight, 0.025)) & \n",
    "              (df.weight <= pd.Series.quantile(df.weight, 0.975))]\n"
   ]
  },
  {
   "cell_type": "markdown",
   "metadata": {
    "_uuid": "f807adaa6459d1c75d202bb973831369d6eeb20e"
   },
   "source": [
    "**Question 1.7. (2 points). What percent of the original data (rounded) did we throw away?**\n",
    "\n",
    "1. 8\n",
    "2. 9\n",
    "3. **10**\n",
    "4. 11"
   ]
  },
  {
   "cell_type": "code",
   "execution_count": 19,
   "metadata": {},
   "outputs": [
    {
     "data": {
      "text/plain": [
       "9.631428571428572"
      ]
     },
     "execution_count": 19,
     "metadata": {},
     "output_type": "execute_result"
    }
   ],
   "source": [
    "(df.shape[0] - df_clean.shape[0]) / df.shape[0] * 100"
   ]
  },
  {
   "cell_type": "markdown",
   "metadata": {
    "_uuid": "a9f14b459f71ac2304e73145fc199a90131965e7"
   },
   "source": [
    "# Part 2. Visual data analysis\n",
    "\n",
    "## 2.1. Correlation matrix visualization\n",
    "\n",
    "To understand the features better, you can create a matrix of the correlation coefficients between the features. Use the initial dataset (non-filtered).\n",
    "\n",
    "### Task:\n",
    "\n",
    "Plot a correlation matrix using [`heatmap()`](http://seaborn.pydata.org/generated/seaborn.heatmap.html). You can create the matrix using the standard `pandas` tools with the default parameters."
   ]
  },
  {
   "cell_type": "markdown",
   "metadata": {
    "_uuid": "987ff630db004c51cc9e89e0c6cf6d14d619c4c0"
   },
   "source": [
    "** Question 2.1. (1 point).** Which pair of features has the strongest Pearson's correlation with the *gender* feature?\n",
    "\n",
    "1. Cardio, Cholesterol\n",
    "2. **Height, Smoke**\n",
    "3. Smoke, Alco\n",
    "4. Height, Weight"
   ]
  },
  {
   "cell_type": "code",
   "execution_count": 20,
   "metadata": {
    "_uuid": "a9c19a7bf2dd564b484e8269886340c13967fede"
   },
   "outputs": [
    {
     "data": {
      "image/png": "[encoded data removed]",
      "text/plain": [
       "<Figure size 792x576 with 2 Axes>"
      ]
     },
     "metadata": {
      "needs_background": "light"
     },
     "output_type": "display_data"
    }
   ],
   "source": [
    "cor = df.corr()\n",
    "sns.heatmap(cor);"
   ]
  },
  {
   "cell_type": "code",
   "execution_count": 21,
   "metadata": {},
   "outputs": [
    {
     "data": {
      "text/html": [
       "<div>\n",
       "<style scoped>\n",
       "    .dataframe tbody tr th:only-of-type {\n",
       "        vertical-align: middle;\n",
       "    }\n",
       "\n",
       "    .dataframe tbody tr th {\n",
       "        vertical-align: top;\n",
       "    }\n",
       "\n",
       "    .dataframe thead th {\n",
       "        text-align: right;\n",
       "    }\n",
       "</style>\n",
       "<table border=\"1\" class=\"dataframe\">\n",
       "  <thead>\n",
       "    <tr style=\"text-align: right;\">\n",
       "      <th></th>\n",
       "      <th>id</th>\n",
       "      <th>age</th>\n",
       "      <th>gender</th>\n",
       "      <th>height</th>\n",
       "      <th>weight</th>\n",
       "      <th>ap_hi</th>\n",
       "      <th>ap_lo</th>\n",
       "      <th>cholesterol</th>\n",
       "      <th>gluc</th>\n",
       "      <th>smoke</th>\n",
       "      <th>alco</th>\n",
       "      <th>active</th>\n",
       "      <th>cardio</th>\n",
       "      <th>age_month</th>\n",
       "      <th>age_year</th>\n",
       "      <th>pressure_small</th>\n",
       "      <th>pressure_big</th>\n",
       "      <th>BMI</th>\n",
       "    </tr>\n",
       "  </thead>\n",
       "  <tbody>\n",
       "    <tr>\n",
       "      <th>id</th>\n",
       "      <td>1.000000</td>\n",
       "      <td>0.003457</td>\n",
       "      <td>0.003502</td>\n",
       "      <td>-0.003038</td>\n",
       "      <td>-0.001830</td>\n",
       "      <td>0.003356</td>\n",
       "      <td>-0.002529</td>\n",
       "      <td>0.006106</td>\n",
       "      <td>0.002467</td>\n",
       "      <td>-0.003699</td>\n",
       "      <td>0.001210</td>\n",
       "      <td>0.003755</td>\n",
       "      <td>0.003799</td>\n",
       "      <td>0.003457</td>\n",
       "      <td>0.003814</td>\n",
       "      <td>-0.006450</td>\n",
       "      <td>0.000667</td>\n",
       "      <td>-0.001377</td>\n",
       "    </tr>\n",
       "    <tr>\n",
       "      <th>age</th>\n",
       "      <td>0.003457</td>\n",
       "      <td>1.000000</td>\n",
       "      <td>-0.022811</td>\n",
       "      <td>-0.081515</td>\n",
       "      <td>0.053684</td>\n",
       "      <td>0.020764</td>\n",
       "      <td>0.017647</td>\n",
       "      <td>0.154424</td>\n",
       "      <td>0.098703</td>\n",
       "      <td>-0.047633</td>\n",
       "      <td>-0.029723</td>\n",
       "      <td>-0.009927</td>\n",
       "      <td>0.238159</td>\n",
       "      <td>1.000000</td>\n",
       "      <td>0.999091</td>\n",
       "      <td>-0.184420</td>\n",
       "      <td>0.083063</td>\n",
       "      <td>0.085512</td>\n",
       "    </tr>\n",
       "    <tr>\n",
       "      <th>gender</th>\n",
       "      <td>0.003502</td>\n",
       "      <td>-0.022811</td>\n",
       "      <td>1.000000</td>\n",
       "      <td>0.499033</td>\n",
       "      <td>0.155406</td>\n",
       "      <td>0.006005</td>\n",
       "      <td>0.015254</td>\n",
       "      <td>-0.035821</td>\n",
       "      <td>-0.020491</td>\n",
       "      <td>0.338135</td>\n",
       "      <td>0.170966</td>\n",
       "      <td>0.005866</td>\n",
       "      <td>0.008109</td>\n",
       "      <td>-0.022811</td>\n",
       "      <td>-0.022913</td>\n",
       "      <td>-0.077702</td>\n",
       "      <td>0.020594</td>\n",
       "      <td>-0.096529</td>\n",
       "    </tr>\n",
       "    <tr>\n",
       "      <th>height</th>\n",
       "      <td>-0.003038</td>\n",
       "      <td>-0.081515</td>\n",
       "      <td>0.499033</td>\n",
       "      <td>1.000000</td>\n",
       "      <td>0.290968</td>\n",
       "      <td>0.005488</td>\n",
       "      <td>0.006150</td>\n",
       "      <td>-0.050226</td>\n",
       "      <td>-0.018595</td>\n",
       "      <td>0.187989</td>\n",
       "      <td>0.094419</td>\n",
       "      <td>-0.006570</td>\n",
       "      <td>-0.010821</td>\n",
       "      <td>-0.081515</td>\n",
       "      <td>-0.081506</td>\n",
       "      <td>-0.074835</td>\n",
       "      <td>-0.012098</td>\n",
       "      <td>-0.290642</td>\n",
       "    </tr>\n",
       "    <tr>\n",
       "      <th>weight</th>\n",
       "      <td>-0.001830</td>\n",
       "      <td>0.053684</td>\n",
       "      <td>0.155406</td>\n",
       "      <td>0.290968</td>\n",
       "      <td>1.000000</td>\n",
       "      <td>0.030702</td>\n",
       "      <td>0.043710</td>\n",
       "      <td>0.141768</td>\n",
       "      <td>0.106857</td>\n",
       "      <td>0.067780</td>\n",
       "      <td>0.067113</td>\n",
       "      <td>-0.016867</td>\n",
       "      <td>0.181660</td>\n",
       "      <td>0.053684</td>\n",
       "      <td>0.053561</td>\n",
       "      <td>-0.182546</td>\n",
       "      <td>0.130723</td>\n",
       "      <td>0.762009</td>\n",
       "    </tr>\n",
       "    <tr>\n",
       "      <th>ap_hi</th>\n",
       "      <td>0.003356</td>\n",
       "      <td>0.020764</td>\n",
       "      <td>0.006005</td>\n",
       "      <td>0.005488</td>\n",
       "      <td>0.030702</td>\n",
       "      <td>1.000000</td>\n",
       "      <td>0.016086</td>\n",
       "      <td>0.023778</td>\n",
       "      <td>0.011841</td>\n",
       "      <td>-0.000922</td>\n",
       "      <td>0.001408</td>\n",
       "      <td>-0.000033</td>\n",
       "      <td>0.054475</td>\n",
       "      <td>0.020764</td>\n",
       "      <td>0.020854</td>\n",
       "      <td>-0.074766</td>\n",
       "      <td>0.120705</td>\n",
       "      <td>0.024852</td>\n",
       "    </tr>\n",
       "    <tr>\n",
       "      <th>ap_lo</th>\n",
       "      <td>-0.002529</td>\n",
       "      <td>0.017647</td>\n",
       "      <td>0.015254</td>\n",
       "      <td>0.006150</td>\n",
       "      <td>0.043710</td>\n",
       "      <td>0.016086</td>\n",
       "      <td>1.000000</td>\n",
       "      <td>0.024019</td>\n",
       "      <td>0.010806</td>\n",
       "      <td>0.005186</td>\n",
       "      <td>0.010601</td>\n",
       "      <td>0.004780</td>\n",
       "      <td>0.065719</td>\n",
       "      <td>0.017647</td>\n",
       "      <td>0.017620</td>\n",
       "      <td>-0.058437</td>\n",
       "      <td>-0.002072</td>\n",
       "      <td>0.035345</td>\n",
       "    </tr>\n",
       "    <tr>\n",
       "      <th>cholesterol</th>\n",
       "      <td>0.006106</td>\n",
       "      <td>0.154424</td>\n",
       "      <td>-0.035821</td>\n",
       "      <td>-0.050226</td>\n",
       "      <td>0.141768</td>\n",
       "      <td>0.023778</td>\n",
       "      <td>0.024019</td>\n",
       "      <td>1.000000</td>\n",
       "      <td>0.451578</td>\n",
       "      <td>0.010354</td>\n",
       "      <td>0.035760</td>\n",
       "      <td>0.009911</td>\n",
       "      <td>0.221147</td>\n",
       "      <td>0.154424</td>\n",
       "      <td>0.154012</td>\n",
       "      <td>-0.091286</td>\n",
       "      <td>0.090640</td>\n",
       "      <td>0.146270</td>\n",
       "    </tr>\n",
       "    <tr>\n",
       "      <th>gluc</th>\n",
       "      <td>0.002467</td>\n",
       "      <td>0.098703</td>\n",
       "      <td>-0.020491</td>\n",
       "      <td>-0.018595</td>\n",
       "      <td>0.106857</td>\n",
       "      <td>0.011841</td>\n",
       "      <td>0.010806</td>\n",
       "      <td>0.451578</td>\n",
       "      <td>1.000000</td>\n",
       "      <td>-0.004756</td>\n",
       "      <td>0.011246</td>\n",
       "      <td>-0.006770</td>\n",
       "      <td>0.089307</td>\n",
       "      <td>0.098703</td>\n",
       "      <td>0.098388</td>\n",
       "      <td>-0.053513</td>\n",
       "      <td>0.041890</td>\n",
       "      <td>0.101390</td>\n",
       "    </tr>\n",
       "    <tr>\n",
       "      <th>smoke</th>\n",
       "      <td>-0.003699</td>\n",
       "      <td>-0.047633</td>\n",
       "      <td>0.338135</td>\n",
       "      <td>0.187989</td>\n",
       "      <td>0.067780</td>\n",
       "      <td>-0.000922</td>\n",
       "      <td>0.005186</td>\n",
       "      <td>0.010354</td>\n",
       "      <td>-0.004756</td>\n",
       "      <td>1.000000</td>\n",
       "      <td>0.340094</td>\n",
       "      <td>0.025858</td>\n",
       "      <td>-0.015486</td>\n",
       "      <td>-0.047633</td>\n",
       "      <td>-0.047649</td>\n",
       "      <td>-0.011652</td>\n",
       "      <td>0.015308</td>\n",
       "      <td>-0.027215</td>\n",
       "    </tr>\n",
       "    <tr>\n",
       "      <th>alco</th>\n",
       "      <td>0.001210</td>\n",
       "      <td>-0.029723</td>\n",
       "      <td>0.170966</td>\n",
       "      <td>0.094419</td>\n",
       "      <td>0.067113</td>\n",
       "      <td>0.001408</td>\n",
       "      <td>0.010601</td>\n",
       "      <td>0.035760</td>\n",
       "      <td>0.011246</td>\n",
       "      <td>0.340094</td>\n",
       "      <td>1.000000</td>\n",
       "      <td>0.025476</td>\n",
       "      <td>-0.007330</td>\n",
       "      <td>-0.029723</td>\n",
       "      <td>-0.029756</td>\n",
       "      <td>-0.009772</td>\n",
       "      <td>0.021892</td>\n",
       "      <td>0.014394</td>\n",
       "    </tr>\n",
       "    <tr>\n",
       "      <th>active</th>\n",
       "      <td>0.003755</td>\n",
       "      <td>-0.009927</td>\n",
       "      <td>0.005866</td>\n",
       "      <td>-0.006570</td>\n",
       "      <td>-0.016867</td>\n",
       "      <td>-0.000033</td>\n",
       "      <td>0.004780</td>\n",
       "      <td>0.009911</td>\n",
       "      <td>-0.006770</td>\n",
       "      <td>0.025858</td>\n",
       "      <td>0.025476</td>\n",
       "      <td>1.000000</td>\n",
       "      <td>-0.035653</td>\n",
       "      <td>-0.009927</td>\n",
       "      <td>-0.009998</td>\n",
       "      <td>0.014411</td>\n",
       "      <td>0.001778</td>\n",
       "      <td>-0.014261</td>\n",
       "    </tr>\n",
       "    <tr>\n",
       "      <th>cardio</th>\n",
       "      <td>0.003799</td>\n",
       "      <td>0.238159</td>\n",
       "      <td>0.008109</td>\n",
       "      <td>-0.010821</td>\n",
       "      <td>0.181660</td>\n",
       "      <td>0.054475</td>\n",
       "      <td>0.065719</td>\n",
       "      <td>0.221147</td>\n",
       "      <td>0.089307</td>\n",
       "      <td>-0.015486</td>\n",
       "      <td>-0.007330</td>\n",
       "      <td>-0.035653</td>\n",
       "      <td>1.000000</td>\n",
       "      <td>0.238159</td>\n",
       "      <td>0.237985</td>\n",
       "      <td>-0.251071</td>\n",
       "      <td>0.188837</td>\n",
       "      <td>0.165632</td>\n",
       "    </tr>\n",
       "    <tr>\n",
       "      <th>age_month</th>\n",
       "      <td>0.003457</td>\n",
       "      <td>1.000000</td>\n",
       "      <td>-0.022811</td>\n",
       "      <td>-0.081515</td>\n",
       "      <td>0.053684</td>\n",
       "      <td>0.020764</td>\n",
       "      <td>0.017647</td>\n",
       "      <td>0.154424</td>\n",
       "      <td>0.098703</td>\n",
       "      <td>-0.047633</td>\n",
       "      <td>-0.029723</td>\n",
       "      <td>-0.009927</td>\n",
       "      <td>0.238159</td>\n",
       "      <td>1.000000</td>\n",
       "      <td>0.999091</td>\n",
       "      <td>-0.184420</td>\n",
       "      <td>0.083063</td>\n",
       "      <td>0.085512</td>\n",
       "    </tr>\n",
       "    <tr>\n",
       "      <th>age_year</th>\n",
       "      <td>0.003814</td>\n",
       "      <td>0.999091</td>\n",
       "      <td>-0.022913</td>\n",
       "      <td>-0.081506</td>\n",
       "      <td>0.053561</td>\n",
       "      <td>0.020854</td>\n",
       "      <td>0.017620</td>\n",
       "      <td>0.154012</td>\n",
       "      <td>0.098388</td>\n",
       "      <td>-0.047649</td>\n",
       "      <td>-0.029756</td>\n",
       "      <td>-0.009998</td>\n",
       "      <td>0.237985</td>\n",
       "      <td>0.999091</td>\n",
       "      <td>1.000000</td>\n",
       "      <td>-0.184097</td>\n",
       "      <td>0.082879</td>\n",
       "      <td>0.085404</td>\n",
       "    </tr>\n",
       "    <tr>\n",
       "      <th>pressure_small</th>\n",
       "      <td>-0.006450</td>\n",
       "      <td>-0.184420</td>\n",
       "      <td>-0.077702</td>\n",
       "      <td>-0.074835</td>\n",
       "      <td>-0.182546</td>\n",
       "      <td>-0.074766</td>\n",
       "      <td>-0.058437</td>\n",
       "      <td>-0.091286</td>\n",
       "      <td>-0.053513</td>\n",
       "      <td>-0.011652</td>\n",
       "      <td>-0.009772</td>\n",
       "      <td>0.014411</td>\n",
       "      <td>-0.251071</td>\n",
       "      <td>-0.184420</td>\n",
       "      <td>-0.184097</td>\n",
       "      <td>1.000000</td>\n",
       "      <td>-0.125698</td>\n",
       "      <td>-0.130493</td>\n",
       "    </tr>\n",
       "    <tr>\n",
       "      <th>pressure_big</th>\n",
       "      <td>0.000667</td>\n",
       "      <td>0.083063</td>\n",
       "      <td>0.020594</td>\n",
       "      <td>-0.012098</td>\n",
       "      <td>0.130723</td>\n",
       "      <td>0.120705</td>\n",
       "      <td>-0.002072</td>\n",
       "      <td>0.090640</td>\n",
       "      <td>0.041890</td>\n",
       "      <td>0.015308</td>\n",
       "      <td>0.021892</td>\n",
       "      <td>0.001778</td>\n",
       "      <td>0.188837</td>\n",
       "      <td>0.083063</td>\n",
       "      <td>0.082879</td>\n",
       "      <td>-0.125698</td>\n",
       "      <td>1.000000</td>\n",
       "      <td>0.120892</td>\n",
       "    </tr>\n",
       "    <tr>\n",
       "      <th>BMI</th>\n",
       "      <td>-0.001377</td>\n",
       "      <td>0.085512</td>\n",
       "      <td>-0.096529</td>\n",
       "      <td>-0.290642</td>\n",
       "      <td>0.762009</td>\n",
       "      <td>0.024852</td>\n",
       "      <td>0.035345</td>\n",
       "      <td>0.146270</td>\n",
       "      <td>0.101390</td>\n",
       "      <td>-0.027215</td>\n",
       "      <td>0.014394</td>\n",
       "      <td>-0.014261</td>\n",
       "      <td>0.165632</td>\n",
       "      <td>0.085512</td>\n",
       "      <td>0.085404</td>\n",
       "      <td>-0.130493</td>\n",
       "      <td>0.120892</td>\n",
       "      <td>1.000000</td>\n",
       "    </tr>\n",
       "  </tbody>\n",
       "</table>\n",
       "</div>"
      ],
      "text/plain": [
       "                      id       age    gender    height    weight     ap_hi  \\\n",
       "id              1.000000  0.003457  0.003502 -0.003038 -0.001830  0.003356   \n",
       "age             0.003457  1.000000 -0.022811 -0.081515  0.053684  0.020764   \n",
       "gender          0.003502 -0.022811  1.000000  0.499033  0.155406  0.006005   \n",
       "height         -0.003038 -0.081515  0.499033  1.000000  0.290968  0.005488   \n",
       "weight         -0.001830  0.053684  0.155406  0.290968  1.000000  0.030702   \n",
       "ap_hi           0.003356  0.020764  0.006005  0.005488  0.030702  1.000000   \n",
       "ap_lo          -0.002529  0.017647  0.015254  0.006150  0.043710  0.016086   \n",
       "cholesterol     0.006106  0.154424 -0.035821 -0.050226  0.141768  0.023778   \n",
       "gluc            0.002467  0.098703 -0.020491 -0.018595  0.106857  0.011841   \n",
       "smoke          -0.003699 -0.047633  0.338135  0.187989  0.067780 -0.000922   \n",
       "alco            0.001210 -0.029723  0.170966  0.094419  0.067113  0.001408   \n",
       "active          0.003755 -0.009927  0.005866 -0.006570 -0.016867 -0.000033   \n",
       "cardio          0.003799  0.238159  0.008109 -0.010821  0.181660  0.054475   \n",
       "age_month       0.003457  1.000000 -0.022811 -0.081515  0.053684  0.020764   \n",
       "age_year        0.003814  0.999091 -0.022913 -0.081506  0.053561  0.020854   \n",
       "pressure_small -0.006450 -0.184420 -0.077702 -0.074835 -0.182546 -0.074766   \n",
       "pressure_big    0.000667  0.083063  0.020594 -0.012098  0.130723  0.120705   \n",
       "BMI            -0.001377  0.085512 -0.096529 -0.290642  0.762009  0.024852   \n",
       "\n",
       "                   ap_lo  cholesterol      gluc     smoke      alco    active  \\\n",
       "id             -0.002529     0.006106  0.002467 -0.003699  0.001210  0.003755   \n",
       "age             0.017647     0.154424  0.098703 -0.047633 -0.029723 -0.009927   \n",
       "gender          0.015254    -0.035821 -0.020491  0.338135  0.170966  0.005866   \n",
       "height          0.006150    -0.050226 -0.018595  0.187989  0.094419 -0.006570   \n",
       "weight          0.043710     0.141768  0.106857  0.067780  0.067113 -0.016867   \n",
       "ap_hi           0.016086     0.023778  0.011841 -0.000922  0.001408 -0.000033   \n",
       "ap_lo           1.000000     0.024019  0.010806  0.005186  0.010601  0.004780   \n",
       "cholesterol     0.024019     1.000000  0.451578  0.010354  0.035760  0.009911   \n",
       "gluc            0.010806     0.451578  1.000000 -0.004756  0.011246 -0.006770   \n",
       "smoke           0.005186     0.010354 -0.004756  1.000000  0.340094  0.025858   \n",
       "alco            0.010601     0.035760  0.011246  0.340094  1.000000  0.025476   \n",
       "active          0.004780     0.009911 -0.006770  0.025858  0.025476  1.000000   \n",
       "cardio          0.065719     0.221147  0.089307 -0.015486 -0.007330 -0.035653   \n",
       "age_month       0.017647     0.154424  0.098703 -0.047633 -0.029723 -0.009927   \n",
       "age_year        0.017620     0.154012  0.098388 -0.047649 -0.029756 -0.009998   \n",
       "pressure_small -0.058437    -0.091286 -0.053513 -0.011652 -0.009772  0.014411   \n",
       "pressure_big   -0.002072     0.090640  0.041890  0.015308  0.021892  0.001778   \n",
       "BMI             0.035345     0.146270  0.101390 -0.027215  0.014394 -0.014261   \n",
       "\n",
       "                  cardio  age_month  age_year  pressure_small  pressure_big  \\\n",
       "id              0.003799   0.003457  0.003814       -0.006450      0.000667   \n",
       "age             0.238159   1.000000  0.999091       -0.184420      0.083063   \n",
       "gender          0.008109  -0.022811 -0.022913       -0.077702      0.020594   \n",
       "height         -0.010821  -0.081515 -0.081506       -0.074835     -0.012098   \n",
       "weight          0.181660   0.053684  0.053561       -0.182546      0.130723   \n",
       "ap_hi           0.054475   0.020764  0.020854       -0.074766      0.120705   \n",
       "ap_lo           0.065719   0.017647  0.017620       -0.058437     -0.002072   \n",
       "cholesterol     0.221147   0.154424  0.154012       -0.091286      0.090640   \n",
       "gluc            0.089307   0.098703  0.098388       -0.053513      0.041890   \n",
       "smoke          -0.015486  -0.047633 -0.047649       -0.011652      0.015308   \n",
       "alco           -0.007330  -0.029723 -0.029756       -0.009772      0.021892   \n",
       "active         -0.035653  -0.009927 -0.009998        0.014411      0.001778   \n",
       "cardio          1.000000   0.238159  0.237985       -0.251071      0.188837   \n",
       "age_month       0.238159   1.000000  0.999091       -0.184420      0.083063   \n",
       "age_year        0.237985   0.999091  1.000000       -0.184097      0.082879   \n",
       "pressure_small -0.251071  -0.184420 -0.184097        1.000000     -0.125698   \n",
       "pressure_big    0.188837   0.083063  0.082879       -0.125698      1.000000   \n",
       "BMI             0.165632   0.085512  0.085404       -0.130493      0.120892   \n",
       "\n",
       "                     BMI  \n",
       "id             -0.001377  \n",
       "age             0.085512  \n",
       "gender         -0.096529  \n",
       "height         -0.290642  \n",
       "weight          0.762009  \n",
       "ap_hi           0.024852  \n",
       "ap_lo           0.035345  \n",
       "cholesterol     0.146270  \n",
       "gluc            0.101390  \n",
       "smoke          -0.027215  \n",
       "alco            0.014394  \n",
       "active         -0.014261  \n",
       "cardio          0.165632  \n",
       "age_month       0.085512  \n",
       "age_year        0.085404  \n",
       "pressure_small -0.130493  \n",
       "pressure_big    0.120892  \n",
       "BMI             1.000000  "
      ]
     },
     "execution_count": 21,
     "metadata": {},
     "output_type": "execute_result"
    }
   ],
   "source": [
    "cor"
   ]
  },
  {
   "cell_type": "markdown",
   "metadata": {
    "_uuid": "01edf6a3a68f47f07164b3e4cb9e6ab5ef1efcd6"
   },
   "source": [
    "## 2.2. Height distribution of men and women\n",
    "\n",
    "From our exploration of the unique values earlier, we know that the gender is encoded by the values *1* and *2*. Although you do not know the mapping of these values to gender, you can figure that out graphically by looking at the mean values of height and weight for each value of the *gender* feature.\n",
    "\n",
    "### Task:\n",
    "\n",
    "Create a violin plot for the height and gender using [`violinplot()`](https://seaborn.pydata.org/generated/seaborn.violinplot.html). Use the parameters:\n",
    "- `hue` to split by gender;\n",
    "- `scale` to evaluate the number of records for each gender.\n",
    "\n",
    "In order for the plot to render correctly, you need to convert your `DataFrame` to *long* format using the `melt()` function from `pandas`. Here is [an example](https://stackoverflow.com/a/41575149/3338479) of this for your reference."
   ]
  },
  {
   "cell_type": "code",
   "execution_count": 22,
   "metadata": {
    "_uuid": "71d38ccddbe26ca51c69fbdba7cc4405ee459de4"
   },
   "outputs": [
    {
     "data": {
      "image/png": "[encoded data removed]",
      "text/plain": [
       "<Figure size 792x576 with 1 Axes>"
      ]
     },
     "metadata": {
      "needs_background": "light"
     },
     "output_type": "display_data"
    }
   ],
   "source": [
    "sns.violinplot(y = 'height', x = 'gender', data = df);"
   ]
  },
  {
   "cell_type": "markdown",
   "metadata": {
    "_uuid": "beab5110bdc51cbb99dd989e93f9dcf7811a2669"
   },
   "source": [
    "**Question 2.2. (1 point).** Which pair of features has the strongest Spearman correlation?\n",
    "\n",
    "1. Height, Weight\n",
    "2. Age, Weight\n",
    "3. Cholesterol, Gluc\n",
    "4. Cardio, Cholesterol\n",
    "5. **Ap_hi, Ap_lo**\n",
    "6. Smoke, Alco"
   ]
  },
  {
   "cell_type": "code",
   "execution_count": 23,
   "metadata": {},
   "outputs": [
    {
     "data": {
      "text/html": [
       "<div>\n",
       "<style scoped>\n",
       "    .dataframe tbody tr th:only-of-type {\n",
       "        vertical-align: middle;\n",
       "    }\n",
       "\n",
       "    .dataframe tbody tr th {\n",
       "        vertical-align: top;\n",
       "    }\n",
       "\n",
       "    .dataframe thead th {\n",
       "        text-align: right;\n",
       "    }\n",
       "</style>\n",
       "<table border=\"1\" class=\"dataframe\">\n",
       "  <thead>\n",
       "    <tr style=\"text-align: right;\">\n",
       "      <th></th>\n",
       "      <th>id</th>\n",
       "      <th>age</th>\n",
       "      <th>gender</th>\n",
       "      <th>height</th>\n",
       "      <th>weight</th>\n",
       "      <th>ap_hi</th>\n",
       "      <th>ap_lo</th>\n",
       "      <th>cholesterol</th>\n",
       "      <th>gluc</th>\n",
       "      <th>smoke</th>\n",
       "      <th>alco</th>\n",
       "      <th>active</th>\n",
       "      <th>cardio</th>\n",
       "      <th>age_month</th>\n",
       "      <th>age_year</th>\n",
       "      <th>pressure_small</th>\n",
       "      <th>pressure_big</th>\n",
       "      <th>BMI</th>\n",
       "    </tr>\n",
       "  </thead>\n",
       "  <tbody>\n",
       "    <tr>\n",
       "      <th>id</th>\n",
       "      <td>1.000000</td>\n",
       "      <td>0.002682</td>\n",
       "      <td>0.003506</td>\n",
       "      <td>-0.001886</td>\n",
       "      <td>-0.001292</td>\n",
       "      <td>0.003258</td>\n",
       "      <td>-0.000238</td>\n",
       "      <td>0.005706</td>\n",
       "      <td>0.002789</td>\n",
       "      <td>-0.003697</td>\n",
       "      <td>0.001214</td>\n",
       "      <td>0.003766</td>\n",
       "      <td>0.003800</td>\n",
       "      <td>0.002682</td>\n",
       "      <td>0.003002</td>\n",
       "      <td>-0.006446</td>\n",
       "      <td>0.000665</td>\n",
       "      <td>-0.000472</td>\n",
       "    </tr>\n",
       "    <tr>\n",
       "      <th>age</th>\n",
       "      <td>0.002682</td>\n",
       "      <td>1.000000</td>\n",
       "      <td>-0.020176</td>\n",
       "      <td>-0.082292</td>\n",
       "      <td>0.061559</td>\n",
       "      <td>0.219087</td>\n",
       "      <td>0.156700</td>\n",
       "      <td>0.140113</td>\n",
       "      <td>0.091791</td>\n",
       "      <td>-0.047471</td>\n",
       "      <td>-0.030078</td>\n",
       "      <td>-0.010422</td>\n",
       "      <td>0.234429</td>\n",
       "      <td>1.000000</td>\n",
       "      <td>0.999052</td>\n",
       "      <td>-0.178533</td>\n",
       "      <td>0.081747</td>\n",
       "      <td>0.107610</td>\n",
       "    </tr>\n",
       "    <tr>\n",
       "      <th>gender</th>\n",
       "      <td>0.003506</td>\n",
       "      <td>-0.020176</td>\n",
       "      <td>1.000000</td>\n",
       "      <td>0.533805</td>\n",
       "      <td>0.172480</td>\n",
       "      <td>0.063174</td>\n",
       "      <td>0.066374</td>\n",
       "      <td>-0.035730</td>\n",
       "      <td>-0.018866</td>\n",
       "      <td>0.338135</td>\n",
       "      <td>0.170966</td>\n",
       "      <td>0.005866</td>\n",
       "      <td>0.008109</td>\n",
       "      <td>-0.020176</td>\n",
       "      <td>-0.020668</td>\n",
       "      <td>-0.077702</td>\n",
       "      <td>0.020594</td>\n",
       "      <td>-0.087531</td>\n",
       "    </tr>\n",
       "    <tr>\n",
       "      <th>height</th>\n",
       "      <td>-0.001886</td>\n",
       "      <td>-0.082292</td>\n",
       "      <td>0.533805</td>\n",
       "      <td>1.000000</td>\n",
       "      <td>0.313569</td>\n",
       "      <td>0.019381</td>\n",
       "      <td>0.030534</td>\n",
       "      <td>-0.058940</td>\n",
       "      <td>-0.024369</td>\n",
       "      <td>0.197632</td>\n",
       "      <td>0.096670</td>\n",
       "      <td>-0.007367</td>\n",
       "      <td>-0.012383</td>\n",
       "      <td>-0.082292</td>\n",
       "      <td>-0.083530</td>\n",
       "      <td>-0.082413</td>\n",
       "      <td>-0.014199</td>\n",
       "      <td>-0.182390</td>\n",
       "    </tr>\n",
       "    <tr>\n",
       "      <th>weight</th>\n",
       "      <td>-0.001292</td>\n",
       "      <td>0.061559</td>\n",
       "      <td>0.172480</td>\n",
       "      <td>0.313569</td>\n",
       "      <td>1.000000</td>\n",
       "      <td>0.277749</td>\n",
       "      <td>0.254420</td>\n",
       "      <td>0.137908</td>\n",
       "      <td>0.109901</td>\n",
       "      <td>0.071676</td>\n",
       "      <td>0.068088</td>\n",
       "      <td>-0.014894</td>\n",
       "      <td>0.182701</td>\n",
       "      <td>0.061559</td>\n",
       "      <td>0.062952</td>\n",
       "      <td>-0.188060</td>\n",
       "      <td>0.118939</td>\n",
       "      <td>0.848271</td>\n",
       "    </tr>\n",
       "    <tr>\n",
       "      <th>ap_hi</th>\n",
       "      <td>0.003258</td>\n",
       "      <td>0.219087</td>\n",
       "      <td>0.063174</td>\n",
       "      <td>0.019381</td>\n",
       "      <td>0.277749</td>\n",
       "      <td>1.000000</td>\n",
       "      <td>0.735436</td>\n",
       "      <td>0.208722</td>\n",
       "      <td>0.105334</td>\n",
       "      <td>0.028929</td>\n",
       "      <td>0.033243</td>\n",
       "      <td>-0.001268</td>\n",
       "      <td>0.451885</td>\n",
       "      <td>0.219087</td>\n",
       "      <td>0.220309</td>\n",
       "      <td>-0.698792</td>\n",
       "      <td>0.437808</td>\n",
       "      <td>0.281102</td>\n",
       "    </tr>\n",
       "    <tr>\n",
       "      <th>ap_lo</th>\n",
       "      <td>-0.000238</td>\n",
       "      <td>0.156700</td>\n",
       "      <td>0.066374</td>\n",
       "      <td>0.030534</td>\n",
       "      <td>0.254420</td>\n",
       "      <td>0.735436</td>\n",
       "      <td>1.000000</td>\n",
       "      <td>0.167401</td>\n",
       "      <td>0.082474</td>\n",
       "      <td>0.026172</td>\n",
       "      <td>0.038862</td>\n",
       "      <td>0.003401</td>\n",
       "      <td>0.362572</td>\n",
       "      <td>0.156700</td>\n",
       "      <td>0.157768</td>\n",
       "      <td>-0.524617</td>\n",
       "      <td>0.317332</td>\n",
       "      <td>0.250609</td>\n",
       "    </tr>\n",
       "    <tr>\n",
       "      <th>cholesterol</th>\n",
       "      <td>0.005706</td>\n",
       "      <td>0.140113</td>\n",
       "      <td>-0.035730</td>\n",
       "      <td>-0.058940</td>\n",
       "      <td>0.137908</td>\n",
       "      <td>0.208722</td>\n",
       "      <td>0.167401</td>\n",
       "      <td>1.000000</td>\n",
       "      <td>0.407803</td>\n",
       "      <td>0.015220</td>\n",
       "      <td>0.041285</td>\n",
       "      <td>0.007573</td>\n",
       "      <td>0.215117</td>\n",
       "      <td>0.140113</td>\n",
       "      <td>0.141571</td>\n",
       "      <td>-0.080509</td>\n",
       "      <td>0.096784</td>\n",
       "      <td>0.174008</td>\n",
       "    </tr>\n",
       "    <tr>\n",
       "      <th>gluc</th>\n",
       "      <td>0.002789</td>\n",
       "      <td>0.091791</td>\n",
       "      <td>-0.018866</td>\n",
       "      <td>-0.024369</td>\n",
       "      <td>0.109901</td>\n",
       "      <td>0.105334</td>\n",
       "      <td>0.082474</td>\n",
       "      <td>0.407803</td>\n",
       "      <td>1.000000</td>\n",
       "      <td>0.000468</td>\n",
       "      <td>0.018584</td>\n",
       "      <td>-0.008610</td>\n",
       "      <td>0.091488</td>\n",
       "      <td>0.091791</td>\n",
       "      <td>0.091745</td>\n",
       "      <td>-0.048985</td>\n",
       "      <td>0.053269</td>\n",
       "      <td>0.127857</td>\n",
       "    </tr>\n",
       "    <tr>\n",
       "      <th>smoke</th>\n",
       "      <td>-0.003697</td>\n",
       "      <td>-0.047471</td>\n",
       "      <td>0.338135</td>\n",
       "      <td>0.197632</td>\n",
       "      <td>0.071676</td>\n",
       "      <td>0.028929</td>\n",
       "      <td>0.026172</td>\n",
       "      <td>0.015220</td>\n",
       "      <td>0.000468</td>\n",
       "      <td>1.000000</td>\n",
       "      <td>0.340094</td>\n",
       "      <td>0.025858</td>\n",
       "      <td>-0.015486</td>\n",
       "      <td>-0.047471</td>\n",
       "      <td>-0.047372</td>\n",
       "      <td>-0.011652</td>\n",
       "      <td>0.015308</td>\n",
       "      <td>-0.024264</td>\n",
       "    </tr>\n",
       "    <tr>\n",
       "      <th>alco</th>\n",
       "      <td>0.001214</td>\n",
       "      <td>-0.030078</td>\n",
       "      <td>0.170966</td>\n",
       "      <td>0.096670</td>\n",
       "      <td>0.068088</td>\n",
       "      <td>0.033243</td>\n",
       "      <td>0.038862</td>\n",
       "      <td>0.041285</td>\n",
       "      <td>0.018584</td>\n",
       "      <td>0.340094</td>\n",
       "      <td>1.000000</td>\n",
       "      <td>0.025476</td>\n",
       "      <td>-0.007330</td>\n",
       "      <td>-0.030078</td>\n",
       "      <td>-0.029835</td>\n",
       "      <td>-0.009772</td>\n",
       "      <td>0.021892</td>\n",
       "      <td>0.022702</td>\n",
       "    </tr>\n",
       "    <tr>\n",
       "      <th>active</th>\n",
       "      <td>0.003766</td>\n",
       "      <td>-0.010422</td>\n",
       "      <td>0.005866</td>\n",
       "      <td>-0.007367</td>\n",
       "      <td>-0.014894</td>\n",
       "      <td>-0.001268</td>\n",
       "      <td>0.003401</td>\n",
       "      <td>0.007573</td>\n",
       "      <td>-0.008610</td>\n",
       "      <td>0.025858</td>\n",
       "      <td>0.025476</td>\n",
       "      <td>1.000000</td>\n",
       "      <td>-0.035653</td>\n",
       "      <td>-0.010422</td>\n",
       "      <td>-0.010293</td>\n",
       "      <td>0.014411</td>\n",
       "      <td>0.001778</td>\n",
       "      <td>-0.009949</td>\n",
       "    </tr>\n",
       "    <tr>\n",
       "      <th>cardio</th>\n",
       "      <td>0.003800</td>\n",
       "      <td>0.234429</td>\n",
       "      <td>0.008109</td>\n",
       "      <td>-0.012383</td>\n",
       "      <td>0.182701</td>\n",
       "      <td>0.451885</td>\n",
       "      <td>0.362572</td>\n",
       "      <td>0.215117</td>\n",
       "      <td>0.091488</td>\n",
       "      <td>-0.015486</td>\n",
       "      <td>-0.007330</td>\n",
       "      <td>-0.035653</td>\n",
       "      <td>1.000000</td>\n",
       "      <td>0.234429</td>\n",
       "      <td>0.235525</td>\n",
       "      <td>-0.251071</td>\n",
       "      <td>0.188837</td>\n",
       "      <td>0.199052</td>\n",
       "    </tr>\n",
       "    <tr>\n",
       "      <th>age_month</th>\n",
       "      <td>0.002682</td>\n",
       "      <td>1.000000</td>\n",
       "      <td>-0.020176</td>\n",
       "      <td>-0.082292</td>\n",
       "      <td>0.061559</td>\n",
       "      <td>0.219087</td>\n",
       "      <td>0.156700</td>\n",
       "      <td>0.140113</td>\n",
       "      <td>0.091791</td>\n",
       "      <td>-0.047471</td>\n",
       "      <td>-0.030078</td>\n",
       "      <td>-0.010422</td>\n",
       "      <td>0.234429</td>\n",
       "      <td>1.000000</td>\n",
       "      <td>0.999052</td>\n",
       "      <td>-0.178533</td>\n",
       "      <td>0.081747</td>\n",
       "      <td>0.107610</td>\n",
       "    </tr>\n",
       "    <tr>\n",
       "      <th>age_year</th>\n",
       "      <td>0.003002</td>\n",
       "      <td>0.999052</td>\n",
       "      <td>-0.020668</td>\n",
       "      <td>-0.083530</td>\n",
       "      <td>0.062952</td>\n",
       "      <td>0.220309</td>\n",
       "      <td>0.157768</td>\n",
       "      <td>0.141571</td>\n",
       "      <td>0.091745</td>\n",
       "      <td>-0.047372</td>\n",
       "      <td>-0.029835</td>\n",
       "      <td>-0.010293</td>\n",
       "      <td>0.235525</td>\n",
       "      <td>0.999052</td>\n",
       "      <td>1.000000</td>\n",
       "      <td>-0.178356</td>\n",
       "      <td>0.082608</td>\n",
       "      <td>0.109727</td>\n",
       "    </tr>\n",
       "    <tr>\n",
       "      <th>pressure_small</th>\n",
       "      <td>-0.006446</td>\n",
       "      <td>-0.178533</td>\n",
       "      <td>-0.077702</td>\n",
       "      <td>-0.082413</td>\n",
       "      <td>-0.188060</td>\n",
       "      <td>-0.698792</td>\n",
       "      <td>-0.524617</td>\n",
       "      <td>-0.080509</td>\n",
       "      <td>-0.048985</td>\n",
       "      <td>-0.011652</td>\n",
       "      <td>-0.009772</td>\n",
       "      <td>0.014411</td>\n",
       "      <td>-0.251071</td>\n",
       "      <td>-0.178533</td>\n",
       "      <td>-0.178356</td>\n",
       "      <td>1.000000</td>\n",
       "      <td>-0.125698</td>\n",
       "      <td>-0.155727</td>\n",
       "    </tr>\n",
       "    <tr>\n",
       "      <th>pressure_big</th>\n",
       "      <td>0.000665</td>\n",
       "      <td>0.081747</td>\n",
       "      <td>0.020594</td>\n",
       "      <td>-0.014199</td>\n",
       "      <td>0.118939</td>\n",
       "      <td>0.437808</td>\n",
       "      <td>0.317332</td>\n",
       "      <td>0.096784</td>\n",
       "      <td>0.053269</td>\n",
       "      <td>0.015308</td>\n",
       "      <td>0.021892</td>\n",
       "      <td>0.001778</td>\n",
       "      <td>0.188837</td>\n",
       "      <td>0.081747</td>\n",
       "      <td>0.082608</td>\n",
       "      <td>-0.125698</td>\n",
       "      <td>1.000000</td>\n",
       "      <td>0.130996</td>\n",
       "    </tr>\n",
       "    <tr>\n",
       "      <th>BMI</th>\n",
       "      <td>-0.000472</td>\n",
       "      <td>0.107610</td>\n",
       "      <td>-0.087531</td>\n",
       "      <td>-0.182390</td>\n",
       "      <td>0.848271</td>\n",
       "      <td>0.281102</td>\n",
       "      <td>0.250609</td>\n",
       "      <td>0.174008</td>\n",
       "      <td>0.127857</td>\n",
       "      <td>-0.024264</td>\n",
       "      <td>0.022702</td>\n",
       "      <td>-0.009949</td>\n",
       "      <td>0.199052</td>\n",
       "      <td>0.107610</td>\n",
       "      <td>0.109727</td>\n",
       "      <td>-0.155727</td>\n",
       "      <td>0.130996</td>\n",
       "      <td>1.000000</td>\n",
       "    </tr>\n",
       "  </tbody>\n",
       "</table>\n",
       "</div>"
      ],
      "text/plain": [
       "                      id       age    gender    height    weight     ap_hi  \\\n",
       "id              1.000000  0.002682  0.003506 -0.001886 -0.001292  0.003258   \n",
       "age             0.002682  1.000000 -0.020176 -0.082292  0.061559  0.219087   \n",
       "gender          0.003506 -0.020176  1.000000  0.533805  0.172480  0.063174   \n",
       "height         -0.001886 -0.082292  0.533805  1.000000  0.313569  0.019381   \n",
       "weight         -0.001292  0.061559  0.172480  0.313569  1.000000  0.277749   \n",
       "ap_hi           0.003258  0.219087  0.063174  0.019381  0.277749  1.000000   \n",
       "ap_lo          -0.000238  0.156700  0.066374  0.030534  0.254420  0.735436   \n",
       "cholesterol     0.005706  0.140113 -0.035730 -0.058940  0.137908  0.208722   \n",
       "gluc            0.002789  0.091791 -0.018866 -0.024369  0.109901  0.105334   \n",
       "smoke          -0.003697 -0.047471  0.338135  0.197632  0.071676  0.028929   \n",
       "alco            0.001214 -0.030078  0.170966  0.096670  0.068088  0.033243   \n",
       "active          0.003766 -0.010422  0.005866 -0.007367 -0.014894 -0.001268   \n",
       "cardio          0.003800  0.234429  0.008109 -0.012383  0.182701  0.451885   \n",
       "age_month       0.002682  1.000000 -0.020176 -0.082292  0.061559  0.219087   \n",
       "age_year        0.003002  0.999052 -0.020668 -0.083530  0.062952  0.220309   \n",
       "pressure_small -0.006446 -0.178533 -0.077702 -0.082413 -0.188060 -0.698792   \n",
       "pressure_big    0.000665  0.081747  0.020594 -0.014199  0.118939  0.437808   \n",
       "BMI            -0.000472  0.107610 -0.087531 -0.182390  0.848271  0.281102   \n",
       "\n",
       "                   ap_lo  cholesterol      gluc     smoke      alco    active  \\\n",
       "id             -0.000238     0.005706  0.002789 -0.003697  0.001214  0.003766   \n",
       "age             0.156700     0.140113  0.091791 -0.047471 -0.030078 -0.010422   \n",
       "gender          0.066374    -0.035730 -0.018866  0.338135  0.170966  0.005866   \n",
       "height          0.030534    -0.058940 -0.024369  0.197632  0.096670 -0.007367   \n",
       "weight          0.254420     0.137908  0.109901  0.071676  0.068088 -0.014894   \n",
       "ap_hi           0.735436     0.208722  0.105334  0.028929  0.033243 -0.001268   \n",
       "ap_lo           1.000000     0.167401  0.082474  0.026172  0.038862  0.003401   \n",
       "cholesterol     0.167401     1.000000  0.407803  0.015220  0.041285  0.007573   \n",
       "gluc            0.082474     0.407803  1.000000  0.000468  0.018584 -0.008610   \n",
       "smoke           0.026172     0.015220  0.000468  1.000000  0.340094  0.025858   \n",
       "alco            0.038862     0.041285  0.018584  0.340094  1.000000  0.025476   \n",
       "active          0.003401     0.007573 -0.008610  0.025858  0.025476  1.000000   \n",
       "cardio          0.362572     0.215117  0.091488 -0.015486 -0.007330 -0.035653   \n",
       "age_month       0.156700     0.140113  0.091791 -0.047471 -0.030078 -0.010422   \n",
       "age_year        0.157768     0.141571  0.091745 -0.047372 -0.029835 -0.010293   \n",
       "pressure_small -0.524617    -0.080509 -0.048985 -0.011652 -0.009772  0.014411   \n",
       "pressure_big    0.317332     0.096784  0.053269  0.015308  0.021892  0.001778   \n",
       "BMI             0.250609     0.174008  0.127857 -0.024264  0.022702 -0.009949   \n",
       "\n",
       "                  cardio  age_month  age_year  pressure_small  pressure_big  \\\n",
       "id              0.003800   0.002682  0.003002       -0.006446      0.000665   \n",
       "age             0.234429   1.000000  0.999052       -0.178533      0.081747   \n",
       "gender          0.008109  -0.020176 -0.020668       -0.077702      0.020594   \n",
       "height         -0.012383  -0.082292 -0.083530       -0.082413     -0.014199   \n",
       "weight          0.182701   0.061559  0.062952       -0.188060      0.118939   \n",
       "ap_hi           0.451885   0.219087  0.220309       -0.698792      0.437808   \n",
       "ap_lo           0.362572   0.156700  0.157768       -0.524617      0.317332   \n",
       "cholesterol     0.215117   0.140113  0.141571       -0.080509      0.096784   \n",
       "gluc            0.091488   0.091791  0.091745       -0.048985      0.053269   \n",
       "smoke          -0.015486  -0.047471 -0.047372       -0.011652      0.015308   \n",
       "alco           -0.007330  -0.030078 -0.029835       -0.009772      0.021892   \n",
       "active         -0.035653  -0.010422 -0.010293        0.014411      0.001778   \n",
       "cardio          1.000000   0.234429  0.235525       -0.251071      0.188837   \n",
       "age_month       0.234429   1.000000  0.999052       -0.178533      0.081747   \n",
       "age_year        0.235525   0.999052  1.000000       -0.178356      0.082608   \n",
       "pressure_small -0.251071  -0.178533 -0.178356        1.000000     -0.125698   \n",
       "pressure_big    0.188837   0.081747  0.082608       -0.125698      1.000000   \n",
       "BMI             0.199052   0.107610  0.109727       -0.155727      0.130996   \n",
       "\n",
       "                     BMI  \n",
       "id             -0.000472  \n",
       "age             0.107610  \n",
       "gender         -0.087531  \n",
       "height         -0.182390  \n",
       "weight          0.848271  \n",
       "ap_hi           0.281102  \n",
       "ap_lo           0.250609  \n",
       "cholesterol     0.174008  \n",
       "gluc            0.127857  \n",
       "smoke          -0.024264  \n",
       "alco            0.022702  \n",
       "active         -0.009949  \n",
       "cardio          0.199052  \n",
       "age_month       0.107610  \n",
       "age_year        0.109727  \n",
       "pressure_small -0.155727  \n",
       "pressure_big    0.130996  \n",
       "BMI             1.000000  "
      ]
     },
     "execution_count": 23,
     "metadata": {},
     "output_type": "execute_result"
    }
   ],
   "source": [
    "cor = df.corr('spearman')\n",
    "cor"
   ]
  },
  {
   "cell_type": "markdown",
   "metadata": {
    "_uuid": "2282d0651afdbe69cdb68b266e509f20a865a63f"
   },
   "source": [
    "**Question 2.3. (1 point).** Why do these features have strong rank correlation?\n",
    "\n",
    "1. Inaccuracies in the data (data acquisition errors).\n",
    "2. Relation is wrong, these features should not be related.\n",
    "3. **Nature of the data.**"
   ]
  },
  {
   "cell_type": "markdown",
   "metadata": {
    "_uuid": "25b4b303156fd6f9178c9b23fba4ff3f220a5977"
   },
   "source": [
    "## 2.4. Age\n",
    "\n",
    "Previously, we calculated the age of the respondents in years at the moment of examination."
   ]
  },
  {
   "cell_type": "markdown",
   "metadata": {
    "_uuid": "d48bb97cba3968e7f73c790226278f6fa818871b"
   },
   "source": [
    "### Task:\n",
    "\n",
    "Create a *count plot* using [`countplot()`](http://seaborn.pydata.org/generated/seaborn.countplot.html) with the age on the *X* axis and the number of people on the *Y* axis. Your resulting plot should have two columns for each age, corresponding to the number of people for each *cardio* class of that age."
   ]
  },
  {
   "cell_type": "code",
   "execution_count": 24,
   "metadata": {
    "_uuid": "fd07f3aab9891fd86228d5880a7a38cc88b282ba"
   },
   "outputs": [
    {
     "data": {
      "image/png": "[encoded data removed]",
      "text/plain": [
       "<Figure size 792x576 with 1 Axes>"
      ]
     },
     "metadata": {
      "needs_background": "light"
     },
     "output_type": "display_data"
    }
   ],
   "source": [
    "sns.countplot(data = df, x = 'age_year', hue = 'cardio');"
   ]
  },
  {
   "cell_type": "markdown",
   "metadata": {
    "_uuid": "49557c7bd46d729c27aa8190df65cc25e45e7528"
   },
   "source": [
    "**Question 2.4. (1 point).** What is the smallest age at which the number of people with CVD outnumber the number of people without CVD?\n",
    "\n",
    "1. 44\n",
    "2. **55**\n",
    "3. 64\n",
    "4. 70"
   ]
  },
  {
   "cell_type": "code",
   "execution_count": null,
   "metadata": {},
   "outputs": [],
   "source": []
  }
 ],
 "metadata": {
  "anaconda-cloud": {},
  "kernelspec": {
   "display_name": "Python 3",
   "language": "python",
   "name": "python3"
  },
  "language_info": {
   "codemirror_mode": {
    "name": "ipython",
    "version": 3
   },
   "file_extension": ".py",
   "mimetype": "text/x-python",
   "name": "python",
   "nbconvert_exporter": "python",
   "pygments_lexer": "ipython3",
   "version": "3.7.3"
  }
 },
 "nbformat": 4,
 "nbformat_minor": 1
}
